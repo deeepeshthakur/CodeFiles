{
 "cells": [
  {
   "cell_type": "code",
   "execution_count": 1,
   "metadata": {},
   "outputs": [],
   "source": [
    "# from time import time\n",
    "# st_timte = time()\n",
    "# !./test_addition > test_cases.txt\n",
    "!./Addition < test_cases.txt > a1.txt\n",
    "# stop_time = time()\n",
    "# print(stop_time-st_timte)\n",
    "\n",
    "# !./tmp_Addition < test_cases.txt > a2.txt\n",
    "# !diff a1.txt a2.txt"
   ]
  },
  {
   "cell_type": "code",
   "execution_count": null,
   "metadata": {},
   "outputs": [],
   "source": []
  }
 ],
 "metadata": {
  "@webio": {
   "lastCommId": null,
   "lastKernelId": null
  },
  "kernelspec": {
   "display_name": "Python 3",
   "language": "python",
   "name": "python3"
  },
  "language_info": {
   "codemirror_mode": {
    "name": "ipython",
    "version": 3
   },
   "file_extension": ".py",
   "mimetype": "text/x-python",
   "name": "python",
   "nbconvert_exporter": "python",
   "pygments_lexer": "ipython3",
   "version": "3.6.9"
  }
 },
 "nbformat": 4,
 "nbformat_minor": 2
}
