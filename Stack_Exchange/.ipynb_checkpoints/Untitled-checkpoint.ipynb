{
 "cells": [
  {
   "cell_type": "code",
   "execution_count": 7,
   "metadata": {},
   "outputs": [],
   "source": [
    "n=100\n",
    "theta = [0 for i in range(n)]\n",
    "def theta_f(i):\n",
    "    if i<2:\n",
    "        return (0 if i==0 else 1)\n",
    "    return 4*theta[i-1]-4*theta[i-2]-2*i\n",
    "\n",
    "for i in range(n):\n",
    "    theta[i]=theta_f(i)\n",
    "\n",
    "# theta\n",
    "alpha = [0 for i in range(n)]\n",
    "def alpha_f(i):\n",
    "    if i<2:\n",
    "        return (1 if i==1 else 0)\n",
    "    return 2*alpha[i-1]-2*i\n",
    "for i in range(n):\n",
    "    alpha[i]=alpha_f(i)\n",
    "# alpha"
   ]
  },
  {
   "cell_type": "code",
   "execution_count": null,
   "metadata": {},
   "outputs": [],
   "source": []
  }
 ],
 "metadata": {
  "kernelspec": {
   "display_name": "Python 3",
   "language": "python",
   "name": "python3"
  },
  "language_info": {
   "codemirror_mode": {
    "name": "ipython",
    "version": 3
   },
   "file_extension": ".py",
   "mimetype": "text/x-python",
   "name": "python",
   "nbconvert_exporter": "python",
   "pygments_lexer": "ipython3",
   "version": "3.6.9"
  }
 },
 "nbformat": 4,
 "nbformat_minor": 2
}
