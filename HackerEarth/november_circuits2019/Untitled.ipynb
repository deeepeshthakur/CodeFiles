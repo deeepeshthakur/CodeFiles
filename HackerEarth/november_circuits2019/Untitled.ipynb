{
 "cells": [
  {
   "cell_type": "code",
   "execution_count": 1,
   "metadata": {},
   "outputs": [],
   "source": [
    "from math import gcd\n",
    "def f(n,x,y):\n",
    "    ans = []\n",
    "    for i in range(0,3):\n",
    "        tmp = []\n",
    "        for j in range(0,3):\n",
    "            tmp .append((x+i,y+j))\n",
    "        ans.append(tmp)\n",
    "    \n",
    "    gcd_ans = [[],[],[]]\n",
    "    for i in range(0,3):\n",
    "        for j in range(0,3):\n",
    "            gcd_ans[i].append(gcd(ans[i][j][0],ans[i][j][1]))\n",
    "    print(ans)\n",
    "    print(gcd_ans)\n"
   ]
  },
  {
   "cell_type": "code",
   "execution_count": 2,
   "metadata": {},
   "outputs": [
    {
     "name": "stdout",
     "output_type": "stream",
     "text": [
      "[[(1274, 1308), (1274, 1309), (1274, 1310)], [(1275, 1308), (1275, 1309), (1275, 1310)], [(1276, 1308), (1276, 1309), (1276, 1310)]]\n",
      "[[2, 7, 2], [3, 17, 5], [4, 11, 2]]\n"
     ]
    }
   ],
   "source": [
    "f(3,1274,1308)"
   ]
  },
  {
   "cell_type": "code",
   "execution_count": null,
   "metadata": {},
   "outputs": [],
   "source": []
  }
 ],
 "metadata": {
  "kernelspec": {
   "display_name": "Python 3",
   "language": "python",
   "name": "python3"
  },
  "language_info": {
   "codemirror_mode": {
    "name": "ipython",
    "version": 3
   },
   "file_extension": ".py",
   "mimetype": "text/x-python",
   "name": "python",
   "nbconvert_exporter": "python",
   "pygments_lexer": "ipython3",
   "version": "3.6.8"
  }
 },
 "nbformat": 4,
 "nbformat_minor": 2
}
