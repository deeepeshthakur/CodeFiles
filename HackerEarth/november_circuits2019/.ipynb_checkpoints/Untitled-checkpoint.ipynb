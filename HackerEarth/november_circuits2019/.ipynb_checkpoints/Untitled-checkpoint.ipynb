{
 "cells": [
  {
   "cell_type": "code",
   "execution_count": null,
   "metadata": {},
   "outputs": [],
   "source": [
    "from math import gcd\n",
    "def f(n,x,y):\n",
    "    ans = []\n",
    "    for i in range(0,3):\n",
    "        tmp = []\n",
    "        for j in range(0,3):\n",
    "            tmp .append((x+i,y+j))\n",
    "        ans.append(tmp)\n",
    "    gcd_ans = ans.copy()\n",
    "    for i, l in enumerate(ans):\n",
    "        "
   ]
  }
 ],
 "metadata": {
  "kernelspec": {
   "display_name": "Python 3",
   "language": "python",
   "name": "python3"
  },
  "language_info": {
   "codemirror_mode": {
    "name": "ipython",
    "version": 3
   },
   "file_extension": ".py",
   "mimetype": "text/x-python",
   "name": "python",
   "nbconvert_exporter": "python",
   "pygments_lexer": "ipython3",
   "version": "3.6.8"
  }
 },
 "nbformat": 4,
 "nbformat_minor": 2
}
