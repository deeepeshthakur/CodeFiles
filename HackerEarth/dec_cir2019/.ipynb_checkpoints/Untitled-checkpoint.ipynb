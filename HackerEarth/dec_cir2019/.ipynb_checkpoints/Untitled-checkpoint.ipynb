{
 "cells": [
  {
   "cell_type": "code",
   "execution_count": 1,
   "metadata": {},
   "outputs": [],
   "source": [
    "import matplotlib.pyplot as plt\n",
    "from math import sin,cos,pi,tan,asin,acos,atan,sqrt\n",
    "import numpy as np\n",
    "import random"
   ]
  },
  {
   "cell_type": "code",
   "execution_count": 2,
   "metadata": {},
   "outputs": [
    {
     "data": {
      "text/plain": [
       "1e-06"
      ]
     },
     "execution_count": 2,
     "metadata": {},
     "output_type": "execute_result"
    }
   ],
   "source": [
    "1e-6"
   ]
  },
  {
   "cell_type": "code",
   "execution_count": 3,
   "metadata": {},
   "outputs": [],
   "source": [
    "def t(l,v1,v2):\n",
    "    return (l[0]/v1)+(l[1]/v2)\n",
    "\n",
    "def delta(t1,t2):\n",
    "    return abs(t1-t2)<1e-6\n",
    "\n",
    "def dist(theta,a):\n",
    "#     a[0]=h,a[1]=l,a[2]=w\n",
    "    return a[1]/cos(theta),sqrt(a[2]**2 + (a[0]-a[1]*tan(theta))**2)\n",
    "\n",
    "def p(theta,a):\n",
    "    x=tan(theta)\n",
    "    return a[0]*x**4 + a[1]*x**3 + a[2]*x**2 + a[3]*x + a[4]\n",
    "\n",
    "def f(l,w,h,a,b):\n",
    "    a1=l*l*(b*a-a*a)\n",
    "    a2=-2*h*l*(b*b-a*a)\n",
    "    a3=b*b*(w*w+h*h)-a*a*(l*l+h*h)\n",
    "    a4=2*h*l*a*a\n",
    "    a5=-a*a*h*h\n",
    "    poly=[a1,a2,a3,a4,a5]\n",
    "    \n",
    "    dist_list=[h,l,w]\n",
    "    \n",
    "    theta1,theta2=0.0,atan(h/l)\n",
    "    x = np.linspace(theta1,theta2,10000)\n",
    "    y = np.array([t(dist(xi,dist_list),a,b) for xi in x])\n",
    "    plt.plot(x,y)\n",
    "    while(not delta(t(dist(theta1,dist_list),a,b),t(dist(theta2,dist_list),a,b))):\n",
    "        mid=(theta1+theta2)/2\n",
    "        if(p(mid,poly)>=0):\n",
    "            theta2=mid\n",
    "        else:\n",
    "            theta1=mid\n",
    "    print(t(dist(theta1,dist_list),a,b),t(dist(theta2,dist_list),a,b),delta_num(t(dist(theta1,dist_list),a,b),t(dist(theta2,dist_list),a,b)))\n",
    "\n",
    "def pre(lst):\n",
    "    x1,y1,x2,y2,v1,v2=lst\n",
    "    l,w,h,a,b=abs(y1),abs(y2),abs(x1-x2),abs(v1),abs(v2)\n",
    "    f(l,w,h,a,b)"
   ]
  },
  {
   "cell_type": "code",
   "execution_count": 4,
   "metadata": {},
   "outputs": [
    {
     "name": "stdout",
     "output_type": "stream",
     "text": [
      "[34.0, 69.0, 51.0, 33.0, 2.0, 17.0]\n",
      "-1156.0 14630.647763074987\n"
     ]
    },
    {
     "data": {
      "image/png": "[encoded data removed]",
      "text/plain": [
       "<Figure size 432x288 with 1 Axes>"
      ]
     },
     "metadata": {
      "needs_background": "light"
     },
     "output_type": "display_data"
    }
   ],
   "source": [
    "# lst = list(map(float,input().split()))\n",
    "lst=[]\n",
    "for i in range(6):\n",
    "    lst.append(random.randint(0,100)*1.0)\n",
    "print(lst)\n",
    "pre(lst)"
   ]
  },
  {
   "cell_type": "code",
   "execution_count": null,
   "metadata": {},
   "outputs": [],
   "source": []
  }
 ],
 "metadata": {
  "@webio": {
   "lastCommId": null,
   "lastKernelId": null
  },
  "kernelspec": {
   "display_name": "Python 3",
   "language": "python",
   "name": "python3"
  },
  "language_info": {
   "codemirror_mode": {
    "name": "ipython",
    "version": 3
   },
   "file_extension": ".py",
   "mimetype": "text/x-python",
   "name": "python",
   "nbconvert_exporter": "python",
   "pygments_lexer": "ipython3",
   "version": "3.6.9"
  }
 },
 "nbformat": 4,
 "nbformat_minor": 2
}
